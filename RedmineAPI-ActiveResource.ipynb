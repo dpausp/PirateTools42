{
 "metadata": {
  "name": "",
  "signature": "sha256:643007bd04b953232aac9003da1db8cdfd5731a619eaaf9be898e6b5a2f00843"
 },
 "nbformat": 3,
 "nbformat_minor": 0,
 "worksheets": [
  {
   "cells": [
    {
     "cell_type": "code",
     "collapsed": false,
     "input": [
      "import sys\n",
      "sys.path.append(\"/home/tobixx0/coding/sprachen/python/pyactiveresource\")\n",
      "sys.path.append(\"/home/tobixx0/coding/piraten/redmine_event_sync\")"
     ],
     "language": "python",
     "metadata": {},
     "outputs": [],
     "prompt_number": 1
    },
    {
     "cell_type": "code",
     "collapsed": false,
     "input": [
      "%autocall 2"
     ],
     "language": "python",
     "metadata": {},
     "outputs": [
      {
       "output_type": "stream",
       "stream": "stdout",
       "text": [
        "Automatic calling is: Full\n"
       ]
      }
     ],
     "prompt_number": 2
    },
    {
     "cell_type": "code",
     "collapsed": false,
     "input": [
      "from piratetools42.redmineapi import *"
     ],
     "language": "python",
     "metadata": {},
     "outputs": [],
     "prompt_number": 3
    },
    {
     "cell_type": "code",
     "collapsed": false,
     "input": [
      "iss = Issue.find(\"1015\")\n",
      "iss.attributes"
     ],
     "language": "python",
     "metadata": {},
     "outputs": [
      {
       "metadata": {},
       "output_type": "pyout",
       "prompt_number": 4,
       "text": [
        "{'author': author(301),\n",
        " 'closed_on': None,\n",
        " 'description': 'Von nun an versuchen wir jeden Monat nicht nur einen, sonder zwei Stammtische im Landkreis zu etablieren! Der erste wird wie gehabt am ersten Freitag im Monat in Cham stattfinden. \\nDer zweite Stammtisch, der von nun an immer am dritten Samstag im Monat stattfinden wird, wechselt zwischen den Orten Bad K\u00f6tzting, Roding,Furth im Wald usw.\\n\\nDiesen Monat beginnen wir unsere Landkreistour mit Bad K\u00f6tzting. \\nAb 19:00 treffen wir uns heute zum gem\u00fctlichen Politisieren im Restaurant Delphi (Rathausgasse 5, 93444 K\u00f6tzting)!',\n",
        " 'id': '1015',\n",
        " 'assigned_to': assigned_to(216),\n",
        " 'start_date': '2014-04-19',\n",
        " 'status': status(7),\n",
        " 'updated_on': '2014-04-19T13:05:04Z',\n",
        " 'tracker': tracker(8),\n",
        " 'custom_fields': [custom_field(2),\n",
        "  custom_field(3),\n",
        "  custom_field(4),\n",
        "  custom_field(8),\n",
        "  custom_field(10),\n",
        "  custom_field(13)],\n",
        " 'created_on': '2014-04-19T13:05:04Z',\n",
        " 'priority': priority(4),\n",
        " 'estimated_hours': None,\n",
        " 'project': project(122),\n",
        " 'done_ratio': '0',\n",
        " 'due_date': '2014-04-19',\n",
        " 'subject': 'Stammtisch Piraten Cham in K\u00f6tzting 19.4.14'}"
       ]
      }
     ],
     "prompt_number": 4
    },
    {
     "cell_type": "code",
     "collapsed": false,
     "input": [
      "from eventsync.redmine.issues import *"
     ],
     "language": "python",
     "metadata": {},
     "outputs": [],
     "prompt_number": 6
    },
    {
     "cell_type": "code",
     "collapsed": false,
     "input": [
      "iss = get_event_issues()\n",
      "iss"
     ],
     "language": "python",
     "metadata": {},
     "outputs": [
      {
       "metadata": {},
       "output_type": "pyout",
       "prompt_number": 7,
       "text": [
        "[issue(1015),\n",
        " issue(1011),\n",
        " issue(1004),\n",
        " issue(990),\n",
        " issue(982),\n",
        " issue(969),\n",
        " issue(964),\n",
        " issue(947),\n",
        " issue(907),\n",
        " issue(832),\n",
        " issue(823),\n",
        " issue(813),\n",
        " issue(803),\n",
        " issue(499),\n",
        " issue(498),\n",
        " issue(497),\n",
        " issue(495),\n",
        " issue(494),\n",
        " issue(493),\n",
        " issue(492),\n",
        " issue(400),\n",
        " issue(399),\n",
        " issue(398),\n",
        " issue(397),\n",
        " issue(396),\n",
        " issue(395),\n",
        " issue(394),\n",
        " issue(393),\n",
        " issue(392),\n",
        " issue(391),\n",
        " issue(390),\n",
        " issue(389),\n",
        " issue(388),\n",
        " issue(387),\n",
        " issue(386),\n",
        " issue(383),\n",
        " issue(991),\n",
        " issue(341)]"
       ]
      }
     ],
     "prompt_number": 7
    },
    {
     "cell_type": "code",
     "collapsed": false,
     "input": [],
     "language": "python",
     "metadata": {},
     "outputs": []
    }
   ],
   "metadata": {}
  }
 ]
}