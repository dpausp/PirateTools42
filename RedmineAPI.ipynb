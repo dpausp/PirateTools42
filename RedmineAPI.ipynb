{
 "metadata": {
  "name": "",
  "signature": "sha256:60055c10477f3e5dc32af7b799a5bd129ea944affabff44e46874c3db9ceb535"
 },
 "nbformat": 3,
 "nbformat_minor": 0,
 "worksheets": [
  {
   "cells": [
    {
     "cell_type": "code",
     "collapsed": false,
     "input": [
      "import requests\n",
      "from urllib.parse import urljoin, quote\n",
      "%autocall 2"
     ],
     "language": "python",
     "metadata": {},
     "outputs": [
      {
       "output_type": "stream",
       "stream": "stdout",
       "text": [
        "Automatic calling is: Full\n"
       ]
      }
     ],
     "prompt_number": 25
    },
    {
     "cell_type": "code",
     "collapsed": false,
     "input": [
      "SITE = \"https://localhost:3000/\"\n",
      "s = None\n",
      "apikey = \"\""
     ],
     "language": "python",
     "metadata": {},
     "outputs": [],
     "prompt_number": 48
    },
    {
     "cell_type": "code",
     "collapsed": false,
     "input": [
      "def connect(key):\n",
      "    global s, apikey\n",
      "    apikey = key\n",
      "    s = requests.Session()"
     ],
     "language": "python",
     "metadata": {},
     "outputs": [],
     "prompt_number": 49
    },
    {
     "cell_type": "code",
     "collapsed": false,
     "input": [
      "COMMAND_TEMPLATE = urljoin(SITE, \"{}.json{}\") \n",
      "\n",
      "def run(command, **options):\n",
      "    if options:\n",
      "        option_parts = []\n",
      "        for opt_name, value in options.items():\n",
      "            option_parts.append(opt_name + \"=\" + value)\n",
      "        query = \"?\" + \"&\".join(option_parts)\n",
      "    else:\n",
      "        query  = \"\"\n",
      "    uri = COMMAND_TEMPLATE.format(command, query)\n",
      "    headers = {}\n",
      "    if apikey:\n",
      "        headers[\"X-Redmine-API-Key\"] = apikey\n",
      "    # do it\n",
      "    print(\"running \" + uri)\n",
      "    result = s.get(uri, headers=headers, verify=False)\n",
      "    if result.ok:\n",
      "        return result.json()\n",
      "    else:\n",
      "        pass"
     ],
     "language": "python",
     "metadata": {},
     "outputs": [],
     "prompt_number": 56
    },
    {
     "cell_type": "code",
     "collapsed": false,
     "input": [
      "connect(\"55574806726b0fb79ff40d71cf23499168c29cf8\")"
     ],
     "language": "python",
     "metadata": {},
     "outputs": [],
     "prompt_number": 50
    },
    {
     "cell_type": "code",
     "collapsed": false,
     "input": [
      "res = run(\"projects\")\n",
      "res"
     ],
     "language": "python",
     "metadata": {},
     "outputs": [
      {
       "output_type": "stream",
       "stream": "stdout",
       "text": [
        "running https://localhost:3000/projects.json\n"
       ]
      },
      {
       "metadata": {},
       "output_type": "pyout",
       "prompt_number": 57,
       "text": [
        "{'total_count': 1,\n",
        " 'projects': [{'status': 1,\n",
        "   'updated_on': '2014-04-19T22:03:27Z',\n",
        "   'name': 'ProjectA',\n",
        "   'id': 1,\n",
        "   'description': 'Description\\r\\n',\n",
        "   'created_on': '2014-04-19T21:09:52Z',\n",
        "   'identifier': 'projecta'}],\n",
        " 'limit': 25,\n",
        " 'offset': 0}"
       ]
      }
     ],
     "prompt_number": 57
    },
    {
     "cell_type": "code",
     "collapsed": false,
     "input": [
      "run \"projects/projecta\", include=\"trackers\""
     ],
     "language": "python",
     "metadata": {},
     "outputs": [
      {
       "output_type": "stream",
       "stream": "stdout",
       "text": [
        "running https://localhost:3000/projects/projecta.json?include=trackers\n"
       ]
      },
      {
       "metadata": {},
       "output_type": "pyout",
       "prompt_number": 58,
       "text": [
        "{'project': {'status': 1,\n",
        "  'updated_on': '2014-04-19T22:03:27Z',\n",
        "  'name': 'ProjectA',\n",
        "  'homepage': '',\n",
        "  'trackers': [{'id': 1, 'name': 'Fehler'},\n",
        "   {'id': 2, 'name': 'Feature'},\n",
        "   {'id': 3, 'name': 'Unterst\u00fctzung'}],\n",
        "  'id': 1,\n",
        "  'description': 'Description\\r\\n',\n",
        "  'created_on': '2014-04-19T21:09:52Z',\n",
        "  'identifier': 'projecta'}}"
       ]
      }
     ],
     "prompt_number": 58
    },
    {
     "cell_type": "code",
     "collapsed": false,
     "input": [
      "run \"issues\", project_id=\"projecta\", updated_on=quote(\"><2014-04-19T22:00:00Z|2014-04-19T22:44:01Z\")"
     ],
     "language": "python",
     "metadata": {},
     "outputs": [
      {
       "output_type": "stream",
       "stream": "stdout",
       "text": [
        "running https://localhost:3000/issues.json?updated_on=%3E%3C2014-04-19T22%3A00%3A00Z%7C2014-04-19T22%3A44%3A01Z&project_id=projecta\n"
       ]
      },
      {
       "metadata": {},
       "output_type": "pyout",
       "prompt_number": 59,
       "text": [
        "{'issues': [{'status': {'id': 1, 'name': 'Neu'},\n",
        "   'project': {'id': 1, 'name': 'ProjectA'},\n",
        "   'created_on': '2014-04-19T21:14:44Z',\n",
        "   'tracker': {'id': 1, 'name': 'Fehler'},\n",
        "   'id': 1,\n",
        "   'updated_on': '2014-04-19T22:04:02Z',\n",
        "   'done_ratio': 0,\n",
        "   'subject': 'Ticket',\n",
        "   'priority': {'id': 2, 'name': 'Normal'},\n",
        "   'custom_fields': [{'id': 1, 'value': 'gget', 'name': 'Bla'}],\n",
        "   'author': {'id': 1, 'name': 'Redmine Admin'},\n",
        "   'description': 'frf',\n",
        "   'start_date': '2014-04-19'}],\n",
        " 'total_count': 1,\n",
        " 'limit': 25,\n",
        " 'offset': 0}"
       ]
      }
     ],
     "prompt_number": 59
    },
    {
     "cell_type": "code",
     "collapsed": false,
     "input": [
      "run \"custom_fields\""
     ],
     "language": "python",
     "metadata": {},
     "outputs": [
      {
       "output_type": "stream",
       "stream": "stdout",
       "text": [
        "running https://localhost:3000/custom_fields.json\n"
       ]
      },
      {
       "metadata": {},
       "output_type": "pyout",
       "prompt_number": 62,
       "text": [
        "{'custom_fields': [{'customized_type': 'issue',\n",
        "   'regexp': '',\n",
        "   'default_value': '4',\n",
        "   'id': 1,\n",
        "   'field_format': 'string',\n",
        "   'roles': {},\n",
        "   'trackers': {'tracker': {'id': 1, 'name': 'Fehler'}},\n",
        "   'visible': True,\n",
        "   'name': 'Bla'}]}"
       ]
      }
     ],
     "prompt_number": 62
    }
   ],
   "metadata": {}
  }
 ]
}